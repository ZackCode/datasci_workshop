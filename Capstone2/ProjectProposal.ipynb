{
 "cells": [
  {
   "cell_type": "markdown",
   "metadata": {},
   "source": [
    "# Capstone Project II: Project Proposal"
   ]
  },
  {
   "cell_type": "markdown",
   "metadata": {},
   "source": [
    "## The Problem\n",
    "\n",
    "This project comes from the kaggle competition \"Data Science Bowl 2017\". This year's topic is lung cancer detection. The goal defined by the competition is:\n",
    "\n",
    "\"Using a data set of thousands of high-resolution lung scans provided by the National Cancer Institute, participants will develop algorithms that accurately determine when lesions in the lungs are cancerous. \"\n",
    "\n",
    "To this end, in this capstone project I would like to accomplish the following objects:\n",
    "1.A model that will detect lung cancer.\n",
    "2.Compare the performance versus other submissions."
   ]
  },
  {
   "cell_type": "markdown",
   "metadata": {},
   "source": [
    "## Potential Benefit for Client\n",
    "\n",
    "According to the description of the kaggle competition, the benefit of this project is:\n",
    "\n",
    "\"This will dramatically reduce the false positive rate that plagues the current detection technology, get patients earlier access to life-saving interventions, and give radiologists more time to spend with their patients.\""
   ]
  },
  {
   "cell_type": "markdown",
   "metadata": {},
   "source": [
    "## The Data\n",
    "\n",
    "The data can be found at kaggle in this link:\n",
    "\n",
    "https://www.kaggle.com/c/data-science-bowl-2017"
   ]
  },
  {
   "cell_type": "markdown",
   "metadata": {},
   "source": [
    "## Planned Approaches towards the Solution\n",
    "\n",
    "The general procedure includes:\n",
    "\n",
    "1.Gather all data needed\n",
    "\n",
    "2.Learn about convolutional neural network and perform data cleaning\n",
    "\n",
    "3.Duplicate the work done by top finishers\n",
    "\n",
    "4.Try to see if any improvements can be made."
   ]
  },
  {
   "cell_type": "markdown",
   "metadata": {},
   "source": [
    "## Deliverables\n",
    "\n",
    "The outcome of this project is source code and a final report, in Github."
   ]
  }
 ],
 "metadata": {
  "kernelspec": {
   "display_name": "Python 2",
   "language": "python",
   "name": "python2"
  },
  "language_info": {
   "codemirror_mode": {
    "name": "ipython",
    "version": 2
   },
   "file_extension": ".py",
   "mimetype": "text/x-python",
   "name": "python",
   "nbconvert_exporter": "python",
   "pygments_lexer": "ipython2",
   "version": "2.7.13"
  }
 },
 "nbformat": 4,
 "nbformat_minor": 2
}
