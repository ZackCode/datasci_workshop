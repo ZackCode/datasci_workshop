{
 "cells": [
  {
   "cell_type": "markdown",
   "metadata": {},
   "source": [
    "# Capstone Project I: Project Proposal"
   ]
  },
  {
   "cell_type": "markdown",
   "metadata": {},
   "source": [
    "## The Problem\n",
    "\n",
    "This project comes from a kaggle competition. Walmart wants to know the correlation between weather condition and its sales record. More specifically, Walmart wants a model that can \"accurately predict the sales of 111 potentially weather-sensitive products (like umbrellas, bread, and milk) around the time of major weather events at 45 of their retail locations\". \n",
    "\n",
    "To this end, in this capstone project I would like to accomplish the following objects:\n",
    "1.A model that will predict product sales in major weather events\n",
    "2.Evaluate how the weather condition affect the sales"
   ]
  },
  {
   "cell_type": "markdown",
   "metadata": {},
   "source": [
    "## Potential Benefit for Client\n",
    "\n",
    "According to the description of the kaggle competition, the model will help Walmart in the following aspects:\n",
    "1.It will help Walmart better manage its inventory, and keep its customers out of rain\n",
    "2.It will help Walmart better evaluate the effectiveness of its current management against weather event"
   ]
  },
  {
   "cell_type": "markdown",
   "metadata": {},
   "source": [
    "## The Data\n",
    "\n",
    "The data can be found at kaggle in this link:\n",
    "\n",
    "https://www.kaggle.com/c/walmart-recruiting-sales-in-stormy-weather\n",
    "\n",
    "Two datasets are provided: sales record and weather events defined as any day in which more than an inch of rain or two inches of snow was observed."
   ]
  },
  {
   "cell_type": "markdown",
   "metadata": {},
   "source": [
    "## Planned Approaches towards the Solution\n",
    "\n",
    "The general procedure includes:\n",
    "\n",
    "1.Clean the data\n",
    "2.Processing data to add more features: month, weekdays, weather event token\n",
    "3.Using multiple models on the dataset: Linear regression, SVM, and Random Forest"
   ]
  },
  {
   "cell_type": "markdown",
   "metadata": {},
   "source": [
    "## Deliverables\n",
    "\n",
    "The outcome of this project is source code and a final report, in Github."
   ]
  },
  {
   "cell_type": "code",
   "execution_count": null,
   "metadata": {
    "collapsed": true
   },
   "outputs": [],
   "source": []
  }
 ],
 "metadata": {
  "kernelspec": {
   "display_name": "Python 2",
   "language": "python",
   "name": "python2"
  },
  "language_info": {
   "codemirror_mode": {
    "name": "ipython",
    "version": 2
   },
   "file_extension": ".py",
   "mimetype": "text/x-python",
   "name": "python",
   "nbconvert_exporter": "python",
   "pygments_lexer": "ipython2",
   "version": "2.7.13"
  }
 },
 "nbformat": 4,
 "nbformat_minor": 2
}
