{
 "cells": [
  {
   "cell_type": "markdown",
   "metadata": {
    "_cell_guid": "2963630f-c85d-4a64-92c6-3885a3dedce7",
    "_uuid": "7c59b0467bfb877b8f3465a163a80cf73322ede9"
   },
   "source": [
    "## Step Four update - Aug 15th\n",
    "Trying to perform svm on the dataset to see how it works"
   ]
  },
  {
   "cell_type": "markdown",
   "metadata": {
    "_cell_guid": "1e98e605-7c29-4d3a-aa12-059d5bf61ed5",
    "_uuid": "26a2a3826ae602b579bc02264d677880e6d8c141"
   },
   "source": [
    "## Step Three update - Aug 6th\n",
    "Perform VIF based data selection, and perform moving average to find the key event"
   ]
  },
  {
   "cell_type": "markdown",
   "metadata": {
    "_cell_guid": "58b63a5c-be37-4df0-a477-e9cf8218ba69",
    "_uuid": "76faab622382aaf0940bfb9739932334d1c2265b"
   },
   "source": [
    "### Step Two update - Aug 1st\n",
    "\n",
    "After talking to my supervisor, I want to familiar myself with formal procedures of data preprocessing. So I re-organize the document into current format. "
   ]
  },
  {
   "cell_type": "markdown",
   "metadata": {
    "_cell_guid": "90f79b24-d55d-4dce-8c72-cdd901cd9068",
    "_execution_state": "idle",
    "_uuid": "5aa1986c22eed76f171c4dcf1458da7c1c80207e"
   },
   "source": [
    "### Step One update\n",
    "I am trying to improve my machine learning skills. For that, I create this notebook to take a finished competition here: https://www.kaggle.com/c/walmart-recruiting-sales-in-stormy-weather. The data is downloaded from the competition page and re-uploaded. For a detailed information regarding this dataset, one can refer to the competition page.\n",
    "\n",
    "This document archive my development progress on this project. More content will be added as my progress goes further. As a conclusion, all the codes will be transformed to Github. \n"
   ]
  },
  {
   "cell_type": "code",
   "execution_count": null,
   "metadata": {
    "_cell_guid": "99a2ad34-d8fb-4a7d-9eda-1d6291407dce",
    "_execution_state": "idle",
    "_uuid": "2ed9eb95b2519eb4ae71ab1c9f9e56fc7586dc8f",
    "collapsed": true
   },
   "outputs": [],
   "source": [
    "import pandas as pd\n",
    "import numpy as np\n",
    "import sys\n",
    "import re\n",
    "df_key = pd.read_csv(\"../input/key.csv\")\n",
    "df_train = pd.read_csv(\"../input/train.csv\")\n",
    "df_test = pd.read_csv(\"../input/test.csv\")\n",
    "df_weather = pd.read_csv(\"../input/weather.csv\")\n",
    "\n",
    "df_train['date'] = pd.to_datetime(df_train['date'])\n",
    "df_weather['date'] = pd.to_datetime(df_weather['date'])\n",
    "\n",
    "temp = pd.merge(df_train, df_key,how='left', on=['store_nbr'])\n",
    "df_main_train = pd.merge(temp, df_weather, how='left', on=['station_nbr','date'])\n",
    "\n",
    "print(df_train.shape)\n",
    "print(temp.shape)\n",
    "print(df_main_train.shape)\n",
    "print(list(df_main_train))"
   ]
  },
  {
   "cell_type": "markdown",
   "metadata": {
    "_cell_guid": "a915a3d4-6c9f-4b98-a3ae-2a64b1b2c525",
    "_execution_state": "idle",
    "_uuid": "472bda9ffa9a0391f57515e1724168195ac45dbc"
   },
   "source": [
    "## Weather Event Locate & Data interpolation\n",
    "\n",
    "Highlight the data for the weather events, which is defined as rainy days with 1 inch or more rainfall, or snowy days with 2 inch or more snowfall. \n",
    "\n",
    "Weather event is filtered using rolling method. The dataset must be sorted in order for this method to work properly.\n",
    "\n",
    "For data interpolation, pandas provide a convenient function: pd.interpolate()"
   ]
  },
  {
   "cell_type": "code",
   "execution_count": null,
   "metadata": {
    "_cell_guid": "a2fa7bfe-09c7-437c-8ea3-3325fa7dd7ae",
    "_uuid": "90b33a60f252c9b05accbe85cb398c8dfeafdc17",
    "collapsed": true,
    "scrolled": true
   },
   "outputs": [],
   "source": [
    "dft = df_main_train\n",
    "df7 = dft.sort_values(['store_nbr','item_nbr','date']).reset_index(drop=True)"
   ]
  },
  {
   "cell_type": "code",
   "execution_count": null,
   "metadata": {
    "_cell_guid": "9b3ada8a-ef89-405c-b368-bbf52a2ae6d0",
    "_execution_state": "idle",
    "_uuid": "c95727501e3b64c7b5d44b1d90b8cbd7a4c2a5da",
    "collapsed": true
   },
   "outputs": [],
   "source": [
    "\n",
    "df7 = df7.convert_objects(convert_numeric=True)\n",
    "df7 = df7.interpolate()\n",
    "\n",
    "\n",
    "patternRA = 'RA'\n",
    "patternSN = 'SN'\n",
    "df7['RA'], df7['SN'] = df7['codesum'].str.contains(patternRA), df7['codesum'].str.contains(patternSN)\n",
    "df7['Condition'] = (df7['RA'] & (df7['preciptotal']>1.0)) | (df7['SN'] & (df7['preciptotal']>2.0))\n",
    "df7['WEvent'] = (pd.rolling_mean(df7['Condition'],window=7,center=True) > 0)\n",
    "\n",
    "mask = (df7['WEvent'] == True)\n",
    "df8 = df7.loc[mask]\n",
    "\n",
    "mask_test = (df8['item_nbr'] == 11)\n",
    "df_test = df8.loc[mask_test]"
   ]
  },
  {
   "cell_type": "markdown",
   "metadata": {
    "_cell_guid": "9d8ca9ec-9cb6-42b9-982a-4c24cc29f7e3",
    "_execution_state": "idle",
    "_uuid": "9408c2cdd33c418319601c1aace373ef05fb5940"
   },
   "source": [
    "## Data Selection: VIF"
   ]
  },
  {
   "cell_type": "code",
   "execution_count": null,
   "metadata": {
    "_cell_guid": "b1650b68-512c-461c-9b97-9aafbfc4f329",
    "_execution_state": "idle",
    "_uuid": "3aae1e4036f489b108351858d5fca1162f234356",
    "collapsed": true
   },
   "outputs": [],
   "source": [
    "import pandas as pd\n",
    "import numpy as np\n",
    "from patsy import dmatrices\n",
    "import statsmodels.api as sm\n",
    "from statsmodels.stats.outliers_influence import variance_inflation_factor\n",
    "\n",
    "df11 = df8\n",
    "\n",
    "mask = (df11['item_nbr'] == 11)\n",
    "df11 = df11.loc[mask]\n",
    "\n",
    "df12 = df11[['units','tavg','depart']]\n",
    "df12 = df12.convert_objects(convert_numeric=True).dropna()\n",
    "df12 = df12._get_numeric_data().reset_index(drop=True)\n",
    "\n",
    "\n"
   ]
  },
  {
   "cell_type": "code",
   "execution_count": null,
   "metadata": {
    "_cell_guid": "921eb7f5-cf8e-4fc4-9766-bc106d2c8b17",
    "_execution_state": "idle",
    "_uuid": "81500921d6ff9b93b177f495c2ecb6a6415f7f40",
    "collapsed": true
   },
   "outputs": [],
   "source": [
    "df13 = df12[['tavg','depart']]\n",
    "\n",
    "features = \"+\".join(df13.columns)\n",
    "y, X = dmatrices('units ~' + features, df12, return_type='dataframe')\n",
    "\n",
    "vif = pd.DataFrame()\n",
    "vif[\"VIF Factor\"] = [variance_inflation_factor(X.values, i) for i in range(X.shape[1])]\n",
    "vif[\"features\"] = X.columns\n",
    "\n",
    "vif.round(1)"
   ]
  },
  {
   "cell_type": "code",
   "execution_count": null,
   "metadata": {
    "_cell_guid": "820aa4d2-7583-4f7e-abfa-c321c997cff0",
    "_execution_state": "idle",
    "_uuid": "c22831ada52e12bb8d66825b4b27dbb0fdc21c00",
    "collapsed": true
   },
   "outputs": [],
   "source": [
    "\n",
    "df11 = df8\n",
    "\n",
    "mask = (df11['item_nbr'] == 11)\n",
    "df11 = df11.loc[mask]\n",
    "\n",
    "df12 = df11[['units','snowfall','preciptotal']]\n",
    "df12 = df12.convert_objects(convert_numeric=True).dropna()\n",
    "df12 = df12._get_numeric_data()\n",
    "df12.reset_index(drop=True)\n",
    "\n",
    "df13 = df12[['snowfall','preciptotal']]\n",
    "\n",
    "features = \"+\".join(df13.columns)\n",
    "y, X = dmatrices('units ~' + features, df12, return_type='dataframe')\n",
    "\n",
    "vif = pd.DataFrame()\n",
    "vif[\"VIF Factor\"] = [variance_inflation_factor(X.values, i) for i in range(X.shape[1])]\n",
    "vif[\"features\"] = X.columns\n",
    "\n",
    "vif.round(1)"
   ]
  },
  {
   "cell_type": "code",
   "execution_count": null,
   "metadata": {
    "_cell_guid": "6263c60d-38ec-4b8b-bfbf-584ca6323ee3",
    "_execution_state": "idle",
    "_uuid": "5ea99fd8db3db079ade84ce2c03203da3c378309",
    "collapsed": true
   },
   "outputs": [],
   "source": [
    "\n",
    "df11 = df8\n",
    "\n",
    "mask = (df11['item_nbr'] == 11)\n",
    "df11 = df11.loc[mask]\n",
    "\n",
    "df12 = df11[['units','stnpressure','sealevel','resultdir','avgspeed']]\n",
    "df12 = df12.convert_objects(convert_numeric=True).dropna()\n",
    "df12 = df12._get_numeric_data()\n",
    "df12.reset_index(drop=True)\n",
    "\n",
    "df13 = df12[['stnpressure','sealevel','resultdir','avgspeed']]\n",
    "\n",
    "features = \"+\".join(df13.columns)\n",
    "y, X = dmatrices('units ~' + features, df12, return_type='dataframe')\n",
    "\n",
    "vif = pd.DataFrame()\n",
    "vif[\"VIF Factor\"] = [variance_inflation_factor(X.values, i) for i in range(X.shape[1])]\n",
    "vif[\"features\"] = X.columns\n",
    "\n",
    "vif.round(1)"
   ]
  },
  {
   "cell_type": "markdown",
   "metadata": {
    "_cell_guid": "f8449e5d-fb87-45b6-942b-1f973a1c03a6",
    "_uuid": "5d44b70c68e684fabf08b63c073090d88be6d5d4"
   },
   "source": [
    "## Applying SVM"
   ]
  },
  {
   "cell_type": "code",
   "execution_count": null,
   "metadata": {
    "_cell_guid": "f3415b1e-8fdd-40a7-81dc-902e73e40f58",
    "_uuid": "8f4d7ce86d6edca078e300db46f40b44730b4356",
    "collapsed": true
   },
   "outputs": [],
   "source": [
    "df_test = df_test.dropna()\n",
    "\n",
    "X = df_test[['tavg','depart','snowfall','preciptotal','stnpressure','sealevel','resultdir','avgspeed']]\n",
    "y = df_test[['units']]\n",
    "\n",
    "from sklearn.cross_validation import train_test_split\n",
    "\n",
    "X_train, X_test, y_train, y_test = train_test_split(X, y, random_state=1)\n",
    "\n",
    "print(X_train.shape)\n",
    "print(y_train.shape)\n",
    "print(X_test.shape)\n",
    "print(y_test.shape)"
   ]
  },
  {
   "cell_type": "code",
   "execution_count": null,
   "metadata": {
    "_cell_guid": "99f08d6b-c842-4d8a-af0a-c829a234c7c5",
    "_uuid": "6fb510455c4dcc04172e26672d395f85d5a5e5ec",
    "collapsed": true
   },
   "outputs": [],
   "source": [
    "from sklearn.linear_model import LinearRegression\n",
    "linreg = LinearRegression()\n",
    "linreg.fit(X_train, y_train)\n",
    "\n",
    "print(linreg.intercept_)\n",
    "print(linreg.coef_)\n",
    "\n",
    "y_pred = linreg.predict(X_test)\n",
    "from sklearn import metrics\n",
    "# MSE\n",
    "print (\"MSE:\",metrics.mean_squared_error(y_test, y_pred))\n",
    "# RMSE\n",
    "print (\"RMSE:\",np.sqrt(metrics.mean_squared_error(y_test, y_pred)))\n",
    "\n",
    "import numpy as np\n",
    "import timeit\n",
    "import math\n",
    "\n",
    "# vectorized error calc\n",
    "def rmsle(y, y0):\n",
    "    assert len(y) == len(y0)\n",
    "    return np.sqrt(np.mean(np.power(np.log1p(y)-np.log1p(y0), 2)))\n",
    "\n",
    "#looping error calc\n",
    "def rmsle_loop(y, y_pred):\n",
    "    assert len(y) == len(y_pred)\n",
    "    terms_to_sum = [(math.log(y_pred[i] + 1) - math.log(y[i] + 1)) ** 2.0 for i,pred in enumerate(y_pred)]\n",
    "    return (sum(terms_to_sum) * (1.0/len(y))) ** 0.5\n",
    "\n",
    "print (\"RMSLE:\",rmsle(y_test, y_pred))"
   ]
  },
  {
   "cell_type": "code",
   "execution_count": null,
   "metadata": {
    "_cell_guid": "a68eb406-1af3-4466-b64d-e11984444a9a",
    "_uuid": "0f5e82f8a691d26cfde229c8cb99dc582f5759f5",
    "collapsed": true
   },
   "outputs": [],
   "source": [
    "from sklearn.model_selection import cross_val_predict\n",
    "predicted = cross_val_predict(linreg, X, y, cv=10)\n",
    "# MSE\n",
    "print(\"MSE:\",metrics.mean_squared_error(y, predicted))\n",
    "# RMSE\n",
    "print(\"RMSE:\",np.sqrt(metrics.mean_squared_error(y, predicted)))\n",
    "# RMLSE\n",
    "print (\"RMSLE:\",rmsle(y, predicted))"
   ]
  },
  {
   "cell_type": "code",
   "execution_count": null,
   "metadata": {
    "_cell_guid": "4f6b29b9-f578-4ecf-9f2c-7d961ee4a8e4",
    "_uuid": "59f2df5fd3f9778b86707fd49f41a86c54d5ac03",
    "collapsed": true
   },
   "outputs": [],
   "source": [
    "import matplotlib.pyplot as plt\n",
    "\n",
    "fig, ax = plt.subplots()\n",
    "ax.scatter(y, predicted)\n",
    "ax.plot([y.min(), y.max()], [y.min(), y.max()], 'k--', lw=4)\n",
    "ax.set_xlabel('Measured')\n",
    "ax.set_ylabel('Predicted')\n",
    "plt.show()"
   ]
  },
  {
   "cell_type": "code",
   "execution_count": null,
   "metadata": {
    "_cell_guid": "9864b0bd-c57a-49d8-8469-ebb0bba26f34",
    "_uuid": "2c67e8d3805d1e597c1fd16838dc1381fb9108e8",
    "collapsed": true
   },
   "outputs": [],
   "source": [
    "import matplotlib.pyplot as plt\n",
    "\n",
    "fig, ax = plt.subplots()\n",
    "ax.scatter(y_test, y_pred)\n",
    "ax.plot([y_test.min(), y_test.max()], [y_test.min(), y_test.max()], 'k--', lw=4)\n",
    "ax.set_xlabel('Measured')\n",
    "ax.set_ylabel('Predicted')\n",
    "plt.show()"
   ]
  },
  {
   "cell_type": "code",
   "execution_count": null,
   "metadata": {
    "_cell_guid": "52485797-0519-496b-aca4-e19a85625661",
    "_uuid": "db1c387affb025271c65c0a09c93e1f827d076ed",
    "collapsed": true
   },
   "outputs": [],
   "source": [
    "import numpy as np\n",
    "import scipy as sp \n",
    "from sknn.mlp import Regressor, Layer\n",
    "from sklearn import preprocessing\n",
    "from sklearn.metrics import accuracy_score \n",
    "from sklearn.cross_validation import train_test_split\n",
    "from sklearn import cross_validation\n",
    "from sklearn import datasets\n",
    "from sklearn.grid_search import RandomizedSearchCV\n",
    "from sklearn.grid_search import GridSearchCV, RandomizedSearchCV\n",
    "from scipy import stats\n",
    "\n",
    "\n",
    "\n",
    "X_trainn = X_train\n",
    "X_testn = X_test\n",
    "\n",
    "max_net = Regressor(layers= [Layer(\"Rectifier\",units=1),\n",
    "                                       Layer(\"Rectifier\",units=1),\n",
    "                                       Layer(\"Rectifier\",units=1),\n",
    "                                       Layer(\"Rectifier\",units=1),\n",
    "                                       Layer(\"Linear\")])\n",
    "params={'learning_rate': [.002],\n",
    "        'hidden0__units': sp.stats.randint(2, 8),\n",
    "        'hidden0__type': [\"Rectifier\"],\n",
    "        'hidden1__units': sp.stats.randint(2, 8),\n",
    "        'hidden1__type': [\"Rectifier\"],\n",
    "        'hidden2__units': sp.stats.randint(2, 8),\n",
    "        'hidden2__type': [\"Rectifier\"],\n",
    "        'learning_rule':[\"adam\",\"rmsprop\",\"sgd\"]}\n",
    "max_net2 = RandomizedSearchCV(max_net,param_distributions=params,n_iter=10,cv=3,random_state=101,scoring='neg_mean_squared_error',verbose=10,\\\n",
    "                             pre_dispatch=None)\n",
    "model_tuning=max_net2.fit(X_train,y_train)\n",
    "\n",
    "print (\"best score %s\" % model_tuning.best_score_)\n",
    "print (\"best parameters %s\" % model_tuning.best_params_)"
   ]
  }
 ],
 "metadata": {
  "kernelspec": {
   "display_name": "Python 2",
   "language": "python",
   "name": "python2"
  },
  "language_info": {
   "codemirror_mode": {
    "name": "ipython",
    "version": 2
   },
   "file_extension": ".py",
   "mimetype": "text/x-python",
   "name": "python",
   "nbconvert_exporter": "python",
   "pygments_lexer": "ipython2",
   "version": "2.7.13"
  }
 },
 "nbformat": 4,
 "nbformat_minor": 1
}
